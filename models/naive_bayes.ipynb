{
 "cells": [
  {
   "cell_type": "code",
   "execution_count": 2,
   "metadata": {},
   "outputs": [],
   "source": [
    "import pandas as pd\n",
    "from sklearn.model_selection import train_test_split\n",
    "from sklearn.naive_bayes import GaussianNB\n",
    "from sklearn.metrics import (\n",
    "    accuracy_score,\n",
    "    classification_report,\n",
    "    confusion_matrix,\n",
    "    recall_score,\n",
    "    f1_score,\n",
    "    precision_score,\n",
    ")"
   ]
  },
  {
   "cell_type": "code",
   "execution_count": 3,
   "metadata": {},
   "outputs": [],
   "source": [
    "# Load the dataset\n",
    "file_path = \"../data/la_morgia_data/features_15S.csv.gz\"\n",
    "data = pd.read_csv(file_path, compression=\"gzip\")\n",
    "\n",
    "\n",
    "# Select the specified features and the target variable\n",
    "features = [\n",
    "    \"std_rush_order\",\n",
    "    \"avg_rush_order\",\n",
    "    \"std_trades\",\n",
    "    \"std_volume\",\n",
    "    \"avg_volume\",\n",
    "    \"std_price\",\n",
    "    \"avg_price\",\n",
    "    \"avg_price_max\",\n",
    "]\n",
    "X = data[features]\n",
    "y = data[\"gt\"]\n",
    "\n",
    "# Split the data into training and testing sets (80% train, 20% test)\n",
    "X_train, X_test, y_train, y_test = train_test_split(\n",
    "    X, y, test_size=0.2, random_state=42\n",
    ")"
   ]
  },
  {
   "cell_type": "code",
   "execution_count": 4,
   "metadata": {},
   "outputs": [
    {
     "name": "stdout",
     "output_type": "stream",
     "text": [
      "gt\n",
      "0    467032\n",
      "1       251\n",
      "Name: count, dtype: int64\n",
      "Fraction of Anomalies: 0.0005371477241842737\n"
     ]
    }
   ],
   "source": [
    "value_counts = y_train.value_counts()\n",
    "print(value_counts)\n",
    "print(\n",
    "    f\"Fraction of Anomalies: {value_counts[1] / (value_counts.iloc[1]+value_counts.iloc[0])}\"\n",
    ")"
   ]
  },
  {
   "cell_type": "markdown",
   "metadata": {},
   "source": [
    "# Gaussian Naive Bayes"
   ]
  },
  {
   "cell_type": "code",
   "execution_count": 5,
   "metadata": {},
   "outputs": [
    {
     "name": "stdout",
     "output_type": "stream",
     "text": [
      "Classification Report:\n",
      "               precision    recall  f1-score   support\n",
      "\n",
      "           0       1.00      0.99      1.00    116755\n",
      "           1       0.06      0.95      0.11        66\n",
      "\n",
      "    accuracy                           0.99    116821\n",
      "   macro avg       0.53      0.97      0.55    116821\n",
      "weighted avg       1.00      0.99      0.99    116821\n",
      "\n",
      "Confusion Matrix:\n",
      " [[115700   1055]\n",
      " [     3     63]]\n",
      "Accuracy:  0.9909434091473279\n",
      "Precision:  0.05635062611806798\n",
      "Recall:  0.9545454545454546\n",
      "F1_Macro:  0.5509337795516912\n",
      "F1_Micro:  0.990943409147328\n"
     ]
    }
   ],
   "source": [
    "# Initialize the Gaussian Naive Bayes classifier and train the model on the training data\n",
    "model = GaussianNB()\n",
    "model.fit(X_train, y_train)\n",
    "\n",
    "# Predict the labels for the testing set\n",
    "y_pred = model.predict(X_test)\n",
    "\n",
    "\n",
    "# Print the results\n",
    "print(\"Classification Report:\\n\", classification_report(y_test, y_pred))\n",
    "print(\"Confusion Matrix:\\n\", confusion_matrix(y_test, y_pred))\n",
    "print(\"Accuracy: \", accuracy_score(y_test, y_pred))\n",
    "print(\"Precision: \", precision_score(y_test, y_pred))\n",
    "print(\"Recall: \", recall_score(y_test, y_pred))\n",
    "print(\"F1_Macro: \", f1_score(y_test, y_pred, average=\"macro\"))\n",
    "print(\"F1_Micro: \", f1_score(y_test, y_pred, average=\"micro\"))"
   ]
  }
 ],
 "metadata": {
  "kernelspec": {
   "display_name": "311venv",
   "language": "python",
   "name": "python3"
  },
  "language_info": {
   "codemirror_mode": {
    "name": "ipython",
    "version": 3
   },
   "file_extension": ".py",
   "mimetype": "text/x-python",
   "name": "python",
   "nbconvert_exporter": "python",
   "pygments_lexer": "ipython3",
   "version": "3.11.2"
  },
  "orig_nbformat": 4
 },
 "nbformat": 4,
 "nbformat_minor": 2
}
