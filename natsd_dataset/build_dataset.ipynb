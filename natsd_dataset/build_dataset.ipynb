{
 "cells": [
  {
   "cell_type": "code",
   "execution_count": 2,
   "metadata": {},
   "outputs": [],
   "source": [
    "import os\n",
    "import numpy as np\n",
    "import pandas as pd"
   ]
  },
  {
   "cell_type": "markdown",
   "metadata": {},
   "source": [
    "# Calculating max drawdowns/spikes df"
   ]
  },
  {
   "cell_type": "code",
   "execution_count": 4,
   "metadata": {},
   "outputs": [
    {
     "name": "stdout",
     "output_type": "stream",
     "text": [
      "BTC_historical_data_1m.csv\n"
     ]
    },
    {
     "name": "stderr",
     "output_type": "stream",
     "text": [
      "C:\\Users\\Denis\\AppData\\Local\\Temp\\ipykernel_29504\\3593026816.py:12: SettingWithCopyWarning: \n",
      "A value is trying to be set on a copy of a slice from a DataFrame.\n",
      "Try using .loc[row_indexer,col_indexer] = value instead\n",
      "\n",
      "See the caveats in the documentation: https://pandas.pydata.org/pandas-docs/stable/user_guide/indexing.html#returning-a-view-versus-a-copy\n",
      "  extreme_returns_df[\"Type\"] = np.where(\n"
     ]
    },
    {
     "name": "stdout",
     "output_type": "stream",
     "text": [
      "ETH_historical_data_1m.csv\n"
     ]
    },
    {
     "name": "stderr",
     "output_type": "stream",
     "text": [
      "C:\\Users\\Denis\\AppData\\Local\\Temp\\ipykernel_29504\\3593026816.py:12: SettingWithCopyWarning: \n",
      "A value is trying to be set on a copy of a slice from a DataFrame.\n",
      "Try using .loc[row_indexer,col_indexer] = value instead\n",
      "\n",
      "See the caveats in the documentation: https://pandas.pydata.org/pandas-docs/stable/user_guide/indexing.html#returning-a-view-versus-a-copy\n",
      "  extreme_returns_df[\"Type\"] = np.where(\n"
     ]
    },
    {
     "name": "stdout",
     "output_type": "stream",
     "text": [
      "XRP_historical_data_1m.csv\n",
      "                 timestamp      open      high       low     close  \\\n",
      "190563 2021-01-11 14:15:00  31131.36  32302.10  31115.00  32169.54   \n",
      "250965 2021-02-22 14:16:00  49965.20  49965.21  47818.99  47835.64   \n",
      "329433 2021-04-18 03:34:00  54522.00  54669.71  52088.10  52674.66   \n",
      "374118 2021-05-19 11:33:00  36420.00  37600.00  36333.00  37600.00   \n",
      "374198 2021-05-19 12:53:00  34556.69  34957.26  33410.81  33478.24   \n",
      "\n",
      "             volume    symbol    return      Type  \n",
      "190563  1135.772717  BTC/USDT  3.334837     Spike  \n",
      "250965  1218.319440  BTC/USDT -4.262106  Drawdown  \n",
      "329433   546.737690  BTC/USDT -3.384703  Drawdown  \n",
      "374118   994.287723  BTC/USDT  3.262576     Spike  \n",
      "374198  1554.536972  BTC/USDT -3.120814  Drawdown  \n"
     ]
    },
    {
     "name": "stderr",
     "output_type": "stream",
     "text": [
      "C:\\Users\\Denis\\AppData\\Local\\Temp\\ipykernel_29504\\3593026816.py:12: SettingWithCopyWarning: \n",
      "A value is trying to be set on a copy of a slice from a DataFrame.\n",
      "Try using .loc[row_indexer,col_indexer] = value instead\n",
      "\n",
      "See the caveats in the documentation: https://pandas.pydata.org/pandas-docs/stable/user_guide/indexing.html#returning-a-view-versus-a-copy\n",
      "  extreme_returns_df[\"Type\"] = np.where(\n"
     ]
    }
   ],
   "source": [
    "files = os.listdir(\"./downloaded_data/\")\n",
    "\n",
    "natural_spikes = list()\n",
    "for x in files:\n",
    "    print(x)\n",
    "    df = pd.read_csv(f\"./downloaded_data/{x}\")\n",
    "\n",
    "    df[\"timestamp\"] = pd.to_datetime(df[\"timestamp\"])\n",
    "    df[\"return\"] = df[\"close\"].pct_change() * 100\n",
    "    extreme_returns_df = df[(df[\"return\"] > 3) | (df[\"return\"] < -3)]\n",
    "\n",
    "    extreme_returns_df[\"Type\"] = np.where(\n",
    "        extreme_returns_df[\"return\"] > 0, \"Spike\", \"Drawdown\"\n",
    "    )\n",
    "    natural_spikes.append(extreme_returns_df)\n",
    "    # df = pd.concat([natural_spikes_df, extreme_returns_df], ignore_index=True)\n",
    "\n",
    "# Display the rows with returns greater than +3% or less than -3%\n",
    "natural_spikes_df = pd.concat(natural_spikes)\n",
    "print(natural_spikes_df.head())\n",
    "\n",
    "natural_spikes_df.to_csv(\"./natural_spikes_drawdowns.csv\", index=False)"
   ]
  },
  {
   "cell_type": "markdown",
   "metadata": {},
   "source": [
    "# Transform data into format for La Morgia et al. code"
   ]
  },
  {
   "cell_type": "code",
   "execution_count": 5,
   "metadata": {},
   "outputs": [],
   "source": [
    "# Transform downloaded data into format required by La Morgia et al. code\n",
    "\n",
    "# Load the CSV file to inspect its structure\n",
    "file_path = \"./natural_spikes_drawdowns.csv\"\n",
    "data = pd.read_csv(file_path)\n",
    "\n",
    "# Display the first few rows of the DataFrame to understand its structure\n",
    "data.head()\n",
    "\n",
    "# Extracting the first three letters from the \"symbol\" column\n",
    "data[\"symbol\"] = data[\"symbol\"].str[:3]\n",
    "\n",
    "# Extracting date and hour from the \"timestamp\" column\n",
    "data[\"timestamp\"] = pd.to_datetime(data[\"timestamp\"])\n",
    "data[\"date\"] = data[\"timestamp\"].dt.date\n",
    "data[\"hour\"] = data[\"timestamp\"].dt.strftime(\"%H:%M\")\n",
    "\n",
    "# Adding the \"exchange\" column with the value \"binance\"\n",
    "data[\"exchange\"] = \"binance\"\n",
    "\n",
    "# Selecting the required columns\n",
    "new_data = data[[\"symbol\", \"date\", \"hour\", \"exchange\"]]\n",
    "\n",
    "# Saving the new DataFrame to a CSV file\n",
    "new_file_path = \"./transformed.csv\"\n",
    "new_data.to_csv(new_file_path, index=False)"
   ]
  },
  {
   "cell_type": "markdown",
   "metadata": {},
   "source": [
    "# Calculate features"
   ]
  },
  {
   "cell_type": "code",
   "execution_count": 1,
   "metadata": {},
   "outputs": [
    {
     "name": "stdout",
     "output_type": "stream",
     "text": [
      "PUMPS\n",
      "  symbol        date   hour exchange\n",
      "0    BTC  2021-01-11  14:15  binance\n",
      "1    BTC  2021-02-22  14:16  binance\n",
      "2    BTC  2021-04-18  03:34  binance\n",
      "3    BTC  2021-05-19  11:33  binance\n",
      "4    BTC  2021-05-19  12:53  binance\n",
      "HI\n",
      "PUMPS\n",
      "  symbol        date   hour exchange\n",
      "0    BTC  2021-01-11  14:15  binance\n",
      "1    BTC  2021-02-22  14:16  binance\n",
      "2    BTC  2021-04-18  03:34  binance\n",
      "3    BTC  2021-05-19  11:33  binance\n",
      "4    BTC  2021-05-19  12:53  binance\n",
      "HI\n",
      "PUMPS\n",
      "  symbol        date   hour exchange\n",
      "0    BTC  2021-01-11  14:15  binance\n",
      "1    BTC  2021-02-22  14:16  binance\n",
      "2    BTC  2021-04-18  03:34  binance\n",
      "3    BTC  2021-05-19  11:33  binance\n",
      "4    BTC  2021-05-19  12:53  binance\n",
      "HI\n"
     ]
    }
   ],
   "source": [
    "from la_morgia_features import build_features_multi\n",
    "\n",
    "build_features_multi(time_freq=\"25S\", rolling_freq=10, csv_path=\"./transformed.csv\")\n",
    "build_features_multi(time_freq=\"15S\", rolling_freq=10, csv_path=\"./transformed.csv\")\n",
    "build_features_multi(time_freq=\"5S\", rolling_freq=20, csv_path=\"./transformed.csv\")"
   ]
  }
 ],
 "metadata": {
  "kernelspec": {
   "display_name": "venv",
   "language": "python",
   "name": "python3"
  },
  "language_info": {
   "codemirror_mode": {
    "name": "ipython",
    "version": 3
   },
   "file_extension": ".py",
   "mimetype": "text/x-python",
   "name": "python",
   "nbconvert_exporter": "python",
   "pygments_lexer": "ipython3",
   "version": "3.11.2"
  }
 },
 "nbformat": 4,
 "nbformat_minor": 2
}
