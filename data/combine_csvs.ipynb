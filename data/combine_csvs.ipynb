{
 "cells": [
  {
   "cell_type": "code",
   "execution_count": 2,
   "metadata": {},
   "outputs": [
    {
     "name": "stdout",
     "output_type": "stream",
     "text": [
      "584104\n",
      "3040\n",
      "587144\n"
     ]
    }
   ],
   "source": [
    "import pandas as pd\n",
    "\n",
    "time_freq = \"15S\"\n",
    "lm_data = pd.read_csv(\"./features_\" + time_freq + \".csv.gz\", parse_dates=[\"date\"])\n",
    "print(len(lm_data))\n",
    "\n",
    "nat_sd = pd.read_csv(\n",
    "    \"./natural_sd/features_\" + time_freq + \".csv\", parse_dates=[\"date\"]\n",
    ")\n",
    "print(len(nat_sd))\n",
    "\n",
    "frames = [lm_data, nat_sd]\n",
    "combined = pd.concat(frames)\n",
    "print(len(combined))\n",
    "\n",
    "combined.to_csv(\"./combined/lm_natsd_15S.csv\")"
   ]
  }
 ],
 "metadata": {
  "kernelspec": {
   "display_name": "311venv",
   "language": "python",
   "name": "python3"
  },
  "language_info": {
   "codemirror_mode": {
    "name": "ipython",
    "version": 3
   },
   "file_extension": ".py",
   "mimetype": "text/x-python",
   "name": "python",
   "nbconvert_exporter": "python",
   "pygments_lexer": "ipython3",
   "version": "3.11.2"
  }
 },
 "nbformat": 4,
 "nbformat_minor": 2
}
